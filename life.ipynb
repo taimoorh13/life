{
 "cells": [
  {
   "cell_type": "code",
   "execution_count": 1,
   "id": "7020b6ec-c89b-4788-869b-a72560c77454",
   "metadata": {},
   "outputs": [],
   "source": [
    "def readGrid(filename):\n",
    "    grid = []\n",
    "    with open(filename) as f:\n",
    "        w, h  = map(int, f.readline().split(maxsplit = 1))\n",
    "        for y in range(h):\n",
    "            grid.append([0] * w)\n",
    "            \n",
    "        for ind, line in enumerate(f):\n",
    "            try:\n",
    "                y, x = map(int, line.split(maxsplit = 1))\n",
    "\n",
    "                if y < 0 or x < 0:\n",
    "                    raise ValueError\n",
    "            \n",
    "            except ValueError:\n",
    "                raise Exception(f\"Invalid cell on line {ind + 2}\")\n",
    "                \n",
    "            \n",
    "            grid[y][x] = 1      \n",
    "    return grid"
   ]
  },
  {
   "cell_type": "markdown",
   "id": "5442f393-4d7e-4a0a-a36d-df68059d2b30",
   "metadata": {},
   "source": [
    "Rules:\n",
    "- Any live cell with fewer than two live neighbours dies, as if by underpopulation.\n",
    "- Any live cell with two or three live neighbours lives on to the next generation.\n",
    "- Any live cell with more than three live neighbours dies, as if by overpopulation.\n",
    "- Any dead cell with exactly three live neighbours becomes a live cell, as if by reproduction."
   ]
  },
  {
   "cell_type": "code",
   "execution_count": 2,
   "id": "64048af4-2a20-46fb-87b5-89c12c8c1d27",
   "metadata": {},
   "outputs": [],
   "source": [
    "def tick(grid):\n",
    "    h, w = len(grid) - 2, len(grid[0]) - 2\n",
    "    \n",
    "    for y, row in enumerate(grid[1:-1]):\n",
    "        y2 = y+2\n",
    "        curr = [0] * (w + 2)\n",
    "        \n",
    "        for x, cell in enumerate(row[1:-1]):                \n",
    "            count = grid[y][x] + grid[y][x+1] + grid[y][x+2] + row[x] + row[x+2] + grid[y2][x] + grid[y2][x+1] + grid[y2][x+2]\n",
    "            \n",
    "            curr[x + 1] = 1 if count == 3 or (count == 2 and cell) else 0\n",
    "        if y < 0:\n",
    "            grid[y] = prev\n",
    "        prev = curr\n",
    "    \n",
    "    grid[y + 1] = curr\n",
    "\n",
    "    return grid"
   ]
  },
  {
   "cell_type": "code",
   "execution_count": 3,
   "id": "3656b39e-bbb3-4565-ad6a-3de213716f9c",
   "metadata": {},
   "outputs": [],
   "source": [
    "filename = 'matrix.txt'"
   ]
  },
  {
   "cell_type": "code",
   "execution_count": 4,
   "id": "5fa3f0b0-3d23-40de-b55e-f3d8949f9983",
   "metadata": {},
   "outputs": [],
   "source": [
    "grid = readGrid(filename)"
   ]
  },
  {
   "cell_type": "code",
   "execution_count": 5,
   "id": "160974e9-d210-46d6-9b6e-cb1a5aa54029",
   "metadata": {},
   "outputs": [
    {
     "data": {
      "text/plain": [
       "[[0, 0, 0, 0, 0],\n",
       " [0, 0, 1, 0, 0],\n",
       " [0, 0, 0, 1, 0],\n",
       " [0, 1, 1, 1, 0],\n",
       " [0, 0, 0, 0, 0]]"
      ]
     },
     "execution_count": 5,
     "metadata": {},
     "output_type": "execute_result"
    }
   ],
   "source": [
    "grid"
   ]
  },
  {
   "cell_type": "code",
   "execution_count": 6,
   "id": "a08e31ad-15f6-49b9-84d0-3eedf71e64fe",
   "metadata": {},
   "outputs": [],
   "source": [
    "mygr = tick(grid)"
   ]
  },
  {
   "cell_type": "code",
   "execution_count": 7,
   "id": "8d38d88f-9135-4242-872a-b555f4ac85d5",
   "metadata": {},
   "outputs": [
    {
     "data": {
      "text/plain": [
       "[[0, 0, 0, 0, 0],\n",
       " [0, 0, 1, 0, 0],\n",
       " [0, 0, 0, 1, 0],\n",
       " [0, 0, 1, 1, 0],\n",
       " [0, 0, 0, 0, 0]]"
      ]
     },
     "execution_count": 7,
     "metadata": {},
     "output_type": "execute_result"
    }
   ],
   "source": [
    "mygr"
   ]
  },
  {
   "cell_type": "code",
   "execution_count": 10,
   "id": "fa3c27b9-13b4-4576-90c3-afe5d030fe1a",
   "metadata": {},
   "outputs": [
    {
     "ename": "NameError",
     "evalue": "name 'grid' is not defined",
     "output_type": "error",
     "traceback": [
      "\u001b[1;31m---------------------------------------------------------------------------\u001b[0m",
      "\u001b[1;31mNameError\u001b[0m                                 Traceback (most recent call last)",
      "Cell \u001b[1;32mIn[10], line 3\u001b[0m\n\u001b[0;32m      1\u001b[0m num_generations \u001b[38;5;241m=\u001b[39m \u001b[38;5;241m5\u001b[39m\n\u001b[1;32m----> 3\u001b[0m nextgrid \u001b[38;5;241m=\u001b[39m \u001b[43mgrid\u001b[49m\u001b[38;5;241m.\u001b[39mcopy()\n\u001b[0;32m      5\u001b[0m \u001b[38;5;28;01mfor\u001b[39;00m i \u001b[38;5;129;01min\u001b[39;00m \u001b[38;5;28mrange\u001b[39m(num_generations):\n\u001b[0;32m      6\u001b[0m     nextgrid \u001b[38;5;241m=\u001b[39m tick(nextgrid)\n",
      "\u001b[1;31mNameError\u001b[0m: name 'grid' is not defined"
     ]
    }
   ],
   "source": [
    "num_generations = 5\n",
    "\n",
    "nextgrid = grid.copy()\n",
    "\n",
    "for i in range(num_generations):\n",
    "    nextgrid = tick(nextgrid)\n",
    "\n",
    "nextgrid"
   ]
  }
 ],
 "metadata": {
  "kernelspec": {
   "display_name": "Python 3 (ipykernel)",
   "language": "python",
   "name": "python3"
  },
  "language_info": {
   "codemirror_mode": {
    "name": "ipython",
    "version": 3
   },
   "file_extension": ".py",
   "mimetype": "text/x-python",
   "name": "python",
   "nbconvert_exporter": "python",
   "pygments_lexer": "ipython3",
   "version": "3.12.4"
  }
 },
 "nbformat": 4,
 "nbformat_minor": 5
}
