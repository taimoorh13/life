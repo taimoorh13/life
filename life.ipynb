{
 "cells": [
  {
   "cell_type": "code",
   "execution_count": 1,
   "id": "f388502b-61e3-4c52-8f0f-9e1a09521c54",
   "metadata": {},
   "outputs": [],
   "source": [
    "%load_ext line_profiler"
   ]
  },
  {
   "cell_type": "code",
   "execution_count": 2,
   "id": "5efcd3c7-e073-4632-908c-8d1ab975a32b",
   "metadata": {},
   "outputs": [
    {
     "data": {
      "text/plain": [
       "\u001b[1;31mDocstring:\u001b[0m\n",
       "Execute a statement under the line-by-line profiler from the\n",
       "line_profiler module.\n",
       "\n",
       "Usage:\n",
       "\n",
       "    %lprun -f func1 -f func2 <statement>\n",
       "\n",
       "The given statement (which doesn't require quote marks) is run via the\n",
       "LineProfiler. Profiling is enabled for the functions specified by the -f\n",
       "options. The statistics will be shown side-by-side with the code through the\n",
       "pager once the statement has completed.\n",
       "\n",
       "Options:\n",
       "\n",
       "-f <function>: LineProfiler only profiles functions and methods it is told\n",
       "to profile.  This option tells the profiler about these functions. Multiple\n",
       "-f options may be used. The argument may be any expression that gives\n",
       "a Python function or method object. However, one must be careful to avoid\n",
       "spaces that may confuse the option parser.\n",
       "\n",
       "-m <module>: Get all the functions/methods in a module\n",
       "\n",
       "One or more -f or -m options are required to get any useful results.\n",
       "\n",
       "-D <filename>: dump the raw statistics out to a pickle file on disk. The\n",
       "usual extension for this is \".lprof\". These statistics may be viewed later\n",
       "by running line_profiler.py as a script.\n",
       "\n",
       "-T <filename>: dump the text-formatted statistics with the code side-by-side\n",
       "out to a text file.\n",
       "\n",
       "-r: return the LineProfiler object after it has completed profiling.\n",
       "\n",
       "-s: strip out all entries from the print-out that have zeros.\n",
       "\n",
       "-u: specify time unit for the print-out in seconds.\n",
       "\u001b[1;31mFile:\u001b[0m      c:\\users\\n\\desktop\\big geodata processing\\projects\\life\\.venv\\lib\\site-packages\\line_profiler\\ipython_extension.py"
      ]
     },
     "metadata": {},
     "output_type": "display_data"
    }
   ],
   "source": [
    "%lprun?"
   ]
  },
  {
   "cell_type": "code",
   "execution_count": 3,
   "id": "7020b6ec-c89b-4788-869b-a72560c77454",
   "metadata": {},
   "outputs": [],
   "source": [
    "\n",
    "def readGrid(filename):\n",
    "    grid = []\n",
    "    with open(filename) as f:\n",
    "        w, h  = map(int, f.readline().split(maxsplit = 1))\n",
    "        for y in range(h):\n",
    "            grid.append([0] * w)\n",
    "            \n",
    "        for ind, line in enumerate(f):\n",
    "            try:\n",
    "                y, x = map(int, line.split(maxsplit = 1))\n",
    "\n",
    "                if y < 0 or x < 0:\n",
    "                    raise ValueError\n",
    "            \n",
    "            except ValueError:\n",
    "                raise Exception(f\"Invalid cell on line {ind + 2}\")\n",
    "                \n",
    "            \n",
    "            grid[y][x] = 1      \n",
    "    return grid"
   ]
  },
  {
   "cell_type": "markdown",
   "id": "5442f393-4d7e-4a0a-a36d-df68059d2b30",
   "metadata": {},
   "source": [
    "Rules:\n",
    "- Any live cell with fewer than two live neighbours dies, as if by underpopulation.\n",
    "- Any live cell with two or three live neighbours lives on to the next generation.\n",
    "- Any live cell with more than three live neighbours dies, as if by overpopulation.\n",
    "- Any dead cell with exactly three live neighbours becomes a live cell, as if by reproduction."
   ]
  },
  {
   "cell_type": "code",
   "execution_count": 4,
   "id": "64048af4-2a20-46fb-87b5-89c12c8c1d27",
   "metadata": {},
   "outputs": [],
   "source": [
    "def tick(grid):\n",
    "    h, w = len(grid), len(grid[0])\n",
    "    nextgrid = []\n",
    "    for y in range(h):\n",
    "        nextgrid.append([0] * w)\n",
    "        \n",
    "    for y, row in enumerate(grid):\n",
    "        for x, cell in enumerate(row):\n",
    "            count = 0\n",
    "            if y > 0:\n",
    "                count += grid[y-1][x-1] if x > 0 else 0 \n",
    "                count += grid[y-1][x]\n",
    "                count += grid[y-1][x+1] if x < w - 1 else 0\n",
    "            \n",
    "            if y < h - 1:\n",
    "                count += grid[y+1][x-1] if x > 0 else 0\n",
    "                count += grid[y+1][x]\n",
    "                count += grid[y+1][x+1] if x < w - 1 else 0\n",
    "\n",
    "            count += grid[y][x-1] if x > 0 else 0\n",
    "            count += grid[y][x+1] if x < w - 1 else 0\n",
    "            \n",
    "            nextgrid[y][x] = 1 if count == 3 or (count == 2 and cell) else 0\n",
    "            \n",
    "    return nextgrid"
   ]
  },
  {
   "cell_type": "code",
   "execution_count": 5,
   "id": "3656b39e-bbb3-4565-ad6a-3de213716f9c",
   "metadata": {},
   "outputs": [],
   "source": [
    "filename = 'matrix.txt'"
   ]
  },
  {
   "cell_type": "code",
   "execution_count": 6,
   "id": "0c531486-3a18-4c8f-8417-7cde0e137613",
   "metadata": {},
   "outputs": [
    {
     "data": {
      "text/plain": [
       "Timer unit: 1e-07 s\n",
       "\n",
       "Total time: 0.0003569 s\n",
       "File: C:\\Users\\n\\AppData\\Local\\Temp\\ipykernel_13780\\1565764684.py\n",
       "Function: readGrid at line 1\n",
       "\n",
       "Line #      Hits         Time  Per Hit   % Time  Line Contents\n",
       "==============================================================\n",
       "     1                                           def readGrid(filename):\n",
       "     2         1         13.0     13.0      0.4      grid = []\n",
       "     3         2       1972.0    986.0     55.3      with open(filename) as f:\n",
       "     4         1        784.0    784.0     22.0          w, h  = map(int, f.readline().split(maxsplit = 1))\n",
       "     5         6         65.0     10.8      1.8          for y in range(h):\n",
       "     6         5        146.0     29.2      4.1              grid.append([0] * w)\n",
       "     7                                                       \n",
       "     8         6        345.0     57.5      9.7          for ind, line in enumerate(f):\n",
       "     9         5         23.0      4.6      0.6              try:\n",
       "    10         5        111.0     22.2      3.1                  y, x = map(int, line.split(maxsplit = 1))\n",
       "    11                                           \n",
       "    12         5         52.0     10.4      1.5                  if y < 0 or x < 0:\n",
       "    13                                                               raise ValueError\n",
       "    14                                                       \n",
       "    15                                                       except ValueError:\n",
       "    16                                                           raise Exception(f\"Invalid cell on line {ind + 2}\")\n",
       "    17                                                           \n",
       "    18                                                       \n",
       "    19         5         40.0      8.0      1.1              grid[y][x] = 1      \n",
       "    20         1         18.0     18.0      0.5      return grid"
      ]
     },
     "metadata": {},
     "output_type": "display_data"
    }
   ],
   "source": [
    "%lprun -f readGrid readGrid(filename)\n",
    "#grid = readGrid(filename)"
   ]
  },
  {
   "cell_type": "code",
   "execution_count": 7,
   "id": "7bd3b412-6082-4b3a-b5b3-05ef407307e4",
   "metadata": {},
   "outputs": [],
   "source": [
    "grid = readGrid(filename)"
   ]
  },
  {
   "cell_type": "code",
   "execution_count": 8,
   "id": "07542879-1387-46ab-aedc-c2d0b4979e8a",
   "metadata": {},
   "outputs": [
    {
     "data": {
      "text/plain": [
       "Timer unit: 1e-07 s\n",
       "\n",
       "Total time: 0.0003199 s\n",
       "File: C:\\Users\\n\\AppData\\Local\\Temp\\ipykernel_13780\\2770087208.py\n",
       "Function: tick at line 1\n",
       "\n",
       "Line #      Hits         Time  Per Hit   % Time  Line Contents\n",
       "==============================================================\n",
       "     1                                           def tick(grid):\n",
       "     2         1         22.0     22.0      0.7      h, w = len(grid), len(grid[0])\n",
       "     3         1         14.0     14.0      0.4      nextgrid = []\n",
       "     4         6         91.0     15.2      2.8      for y in range(h):\n",
       "     5         5        102.0     20.4      3.2          nextgrid.append([0] * w)\n",
       "     6                                                   \n",
       "     7         6         94.0     15.7      2.9      for y, row in enumerate(grid):\n",
       "     8        30        291.0      9.7      9.1          for x, cell in enumerate(row):\n",
       "     9        25        127.0      5.1      4.0              count = 0\n",
       "    10        25        242.0      9.7      7.6              if y > 0:\n",
       "    11        20        212.0     10.6      6.6                  count += grid[y-1][x-1] if x > 0 else 0 \n",
       "    12        20        148.0      7.4      4.6                  count += grid[y-1][x]\n",
       "    13        20        210.0     10.5      6.6                  count += grid[y-1][x+1] if x < w - 1 else 0\n",
       "    14                                                       \n",
       "    15        25        283.0     11.3      8.8              if y < h - 1:\n",
       "    16        20        193.0      9.7      6.0                  count += grid[y+1][x-1] if x > 0 else 0\n",
       "    17        20        155.0      7.8      4.8                  count += grid[y+1][x]\n",
       "    18        20        191.0      9.6      6.0                  count += grid[y+1][x+1] if x < w - 1 else 0\n",
       "    19                                           \n",
       "    20        25        257.0     10.3      8.0              count += grid[y][x-1] if x > 0 else 0\n",
       "    21        25        250.0     10.0      7.8              count += grid[y][x+1] if x < w - 1 else 0\n",
       "    22                                                       \n",
       "    23        25        283.0     11.3      8.8              nextgrid[y][x] = 1 if count == 3 or (count == 2 and cell) else 0\n",
       "    24                                                       \n",
       "    25         1         34.0     34.0      1.1      return nextgrid"
      ]
     },
     "metadata": {},
     "output_type": "display_data"
    }
   ],
   "source": [
    "%lprun -f tick tick(grid)"
   ]
  },
  {
   "cell_type": "code",
   "execution_count": 9,
   "id": "798fb5ac-18ed-469d-9297-86f4ce87a94e",
   "metadata": {},
   "outputs": [
    {
     "ename": "NameError",
     "evalue": "name 'nextgrid' is not defined",
     "output_type": "error",
     "traceback": [
      "\u001b[1;31m---------------------------------------------------------------------------\u001b[0m",
      "\u001b[1;31mNameError\u001b[0m                                 Traceback (most recent call last)",
      "Cell \u001b[1;32mIn[9], line 1\u001b[0m\n\u001b[1;32m----> 1\u001b[0m \u001b[43mnextgrid\u001b[49m\n",
      "\u001b[1;31mNameError\u001b[0m: name 'nextgrid' is not defined"
     ]
    }
   ],
   "source": [
    "nextgrid"
   ]
  },
  {
   "cell_type": "code",
   "execution_count": 10,
   "id": "fa3c27b9-13b4-4576-90c3-afe5d030fe1a",
   "metadata": {},
   "outputs": [
    {
     "ename": "NameError",
     "evalue": "name 'grid' is not defined",
     "output_type": "error",
     "traceback": [
      "\u001b[1;31m---------------------------------------------------------------------------\u001b[0m",
      "\u001b[1;31mNameError\u001b[0m                                 Traceback (most recent call last)",
      "Cell \u001b[1;32mIn[10], line 3\u001b[0m\n\u001b[0;32m      1\u001b[0m num_generations \u001b[38;5;241m=\u001b[39m \u001b[38;5;241m5\u001b[39m\n\u001b[1;32m----> 3\u001b[0m nextgrid \u001b[38;5;241m=\u001b[39m \u001b[43mgrid\u001b[49m\u001b[38;5;241m.\u001b[39mcopy()\n\u001b[0;32m      5\u001b[0m \u001b[38;5;28;01mfor\u001b[39;00m i \u001b[38;5;129;01min\u001b[39;00m \u001b[38;5;28mrange\u001b[39m(num_generations):\n\u001b[0;32m      6\u001b[0m     nextgrid \u001b[38;5;241m=\u001b[39m tick(nextgrid)\n",
      "\u001b[1;31mNameError\u001b[0m: name 'grid' is not defined"
     ]
    }
   ],
   "source": [
    "num_generations = 5\n",
    "\n",
    "nextgrid = grid.copy()\n",
    "\n",
    "for i in range(num_generations):\n",
    "    nextgrid = tick(nextgrid)\n",
    "\n",
    "nextgrid"
   ]
  },
  {
   "cell_type": "code",
   "execution_count": 9,
   "id": "84bee23c-c87f-4b8c-a8de-cd026c20112d",
   "metadata": {},
   "outputs": [
    {
     "data": {
      "text/plain": [
       "[[0, 0, 0, 0, 0],\n",
       " [0, 0, 1, 0, 0],\n",
       " [0, 0, 0, 1, 0],\n",
       " [0, 1, 1, 1, 0],\n",
       " [0, 0, 0, 0, 0]]"
      ]
     },
     "execution_count": 9,
     "metadata": {},
     "output_type": "execute_result"
    }
   ],
   "source": [
    "grid"
   ]
  },
  {
   "cell_type": "code",
   "execution_count": 16,
   "id": "ad10536a-3269-4a6b-8dfa-ea622ca71738",
   "metadata": {},
   "outputs": [],
   "source": [
    "a = bytearray(10)\n",
    "b = [0,0,0,0,0,0,0,0,0,0]"
   ]
  },
  {
   "cell_type": "code",
   "execution_count": 17,
   "id": "ed63fd9e-0f1f-49e2-8c0f-f6715b2cd156",
   "metadata": {},
   "outputs": [],
   "source": [
    "import sys"
   ]
  },
  {
   "cell_type": "code",
   "execution_count": 18,
   "id": "c7b250a4-b7dc-4891-ab1e-ffdca9c3ae81",
   "metadata": {},
   "outputs": [
    {
     "data": {
      "text/plain": [
       "67"
      ]
     },
     "execution_count": 18,
     "metadata": {},
     "output_type": "execute_result"
    }
   ],
   "source": [
    "sys.getsizeof(a)"
   ]
  },
  {
   "cell_type": "code",
   "execution_count": 19,
   "id": "91340849-914d-4e96-9947-d5899f9d0ea0",
   "metadata": {},
   "outputs": [
    {
     "data": {
      "text/plain": [
       "136"
      ]
     },
     "execution_count": 19,
     "metadata": {},
     "output_type": "execute_result"
    }
   ],
   "source": [
    "sys.getsizeof(b)"
   ]
  },
  {
   "cell_type": "code",
   "execution_count": null,
   "id": "3df7ae89-164d-4c2a-94a6-068c5810b83a",
   "metadata": {},
   "outputs": [],
   "source": []
  }
 ],
 "metadata": {
  "kernelspec": {
   "display_name": "Python 3 (ipykernel)",
   "language": "python",
   "name": "python3"
  },
  "language_info": {
   "codemirror_mode": {
    "name": "ipython",
    "version": 3
   },
   "file_extension": ".py",
   "mimetype": "text/x-python",
   "name": "python",
   "nbconvert_exporter": "python",
   "pygments_lexer": "ipython3",
   "version": "3.12.4"
  }
 },
 "nbformat": 4,
 "nbformat_minor": 5
}
