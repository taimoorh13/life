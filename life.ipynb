{
 "cells": [
  {
   "cell_type": "markdown",
   "id": "5442f393-4d7e-4a0a-a36d-df68059d2b30",
   "metadata": {},
   "source": [
    "An implementation of Game of life in Python\n",
    "==========================================\n",
    "Rules:\n",
    "- Any live cell with fewer than two live neighbours dies, as if by underpopulation.\n",
    "- Any live cell with two or three live neighbours lives on to the next generation.\n",
    "- Any live cell with more than three live neighbours dies, as if by overpopulation.\n",
    "- Any dead cell with exactly three live neighbours becomes a live cell, as if by reproduction."
   ]
  },
  {
   "cell_type": "code",
   "execution_count": 1,
   "id": "f4d13f7c-bddf-468a-978c-c371f6a4d955",
   "metadata": {},
   "outputs": [],
   "source": [
    "from life import Life"
   ]
  },
  {
   "cell_type": "code",
   "execution_count": 2,
   "id": "7d45e1aa-837a-4b77-8f3f-2a67e85f80a5",
   "metadata": {},
   "outputs": [
    {
     "name": "stdout",
     "output_type": "stream",
     "text": [
      "Help on class Life in module life:\n",
      "\n",
      "class Life(builtins.object)\n",
      " |  Life(filename)\n",
      " |\n",
      " |  A Python implementation of Game of Life.\n",
      " |\n",
      " |  It is a part of Big Geodata Processing Course in Quartile 1, Year 2.\n",
      " |\n",
      " |  Methods defined here:\n",
      " |\n",
      " |  __init__(self, filename)\n",
      " |      Creates a Game of Life object.\n",
      " |\n",
      " |      Args:\n",
      " |        filename: Input filename.\n",
      " |\n",
      " |      Raises:\n",
      " |        Exception: If input data is invalid.\n",
      " |\n",
      " |  tick(self, n)\n",
      " |      Applies the rules of Game of Life for specified number of generations.\n",
      " |\n",
      " |      Args:\n",
      " |        n: Number of generations.\n",
      " |\n",
      " |  ----------------------------------------------------------------------\n",
      " |  Data descriptors defined here:\n",
      " |\n",
      " |  __dict__\n",
      " |      dictionary for instance variables\n",
      " |\n",
      " |  __weakref__\n",
      " |      list of weak references to the object\n",
      "\n"
     ]
    }
   ],
   "source": [
    "help(Life)"
   ]
  },
  {
   "cell_type": "code",
   "execution_count": 2,
   "id": "3656b39e-bbb3-4565-ad6a-3de213716f9c",
   "metadata": {},
   "outputs": [],
   "source": [
    "filename = 'matrix.txt'"
   ]
  },
  {
   "cell_type": "code",
   "execution_count": 3,
   "id": "5fa3f0b0-3d23-40de-b55e-f3d8949f9983",
   "metadata": {},
   "outputs": [],
   "source": [
    "life = Life(filename)"
   ]
  },
  {
   "cell_type": "code",
   "execution_count": 4,
   "id": "160974e9-d210-46d6-9b6e-cb1a5aa54029",
   "metadata": {},
   "outputs": [
    {
     "data": {
      "text/plain": [
       "[[0, 0, 0, 0, 0, 0, 0],\n",
       " [0, 0, 0, 0, 0, 0, 0],\n",
       " [0, 0, 0, 1, 0, 0, 0],\n",
       " [0, 0, 0, 0, 1, 0, 0],\n",
       " [0, 0, 1, 1, 1, 0, 0],\n",
       " [0, 0, 0, 0, 0, 0, 0],\n",
       " [0, 0, 0, 0, 0, 0, 0]]"
      ]
     },
     "execution_count": 4,
     "metadata": {},
     "output_type": "execute_result"
    }
   ],
   "source": [
    "life.grid"
   ]
  },
  {
   "cell_type": "code",
   "execution_count": 5,
   "id": "a08e31ad-15f6-49b9-84d0-3eedf71e64fe",
   "metadata": {},
   "outputs": [],
   "source": [
    "life.tick(1)"
   ]
  },
  {
   "cell_type": "code",
   "execution_count": 6,
   "id": "8d38d88f-9135-4242-872a-b555f4ac85d5",
   "metadata": {},
   "outputs": [
    {
     "data": {
      "text/plain": [
       "[[0, 0, 0, 0, 0, 0, 0],\n",
       " [0, 0, 0, 0, 0, 0, 0],\n",
       " [0, 0, 0, 0, 0, 0, 0],\n",
       " [0, 0, 1, 0, 1, 0, 0],\n",
       " [0, 0, 0, 1, 1, 0, 0],\n",
       " [0, 0, 0, 1, 0, 0, 0],\n",
       " [0, 0, 0, 0, 0, 0, 0]]"
      ]
     },
     "execution_count": 6,
     "metadata": {},
     "output_type": "execute_result"
    }
   ],
   "source": [
    "life.grid"
   ]
  },
  {
   "cell_type": "code",
   "execution_count": 7,
   "id": "fa3c27b9-13b4-4576-90c3-afe5d030fe1a",
   "metadata": {},
   "outputs": [],
   "source": [
    "life.tick(4)\n"
   ]
  },
  {
   "cell_type": "code",
   "execution_count": 8,
   "id": "c8823580-e2b9-4281-809f-a318fb99f425",
   "metadata": {},
   "outputs": [
    {
     "data": {
      "text/plain": [
       "[[0, 0, 0, 0, 0, 0, 0],\n",
       " [0, 0, 0, 0, 0, 0, 0],\n",
       " [0, 0, 0, 0, 0, 0, 0],\n",
       " [0, 0, 0, 0, 0, 0, 0],\n",
       " [0, 0, 0, 1, 0, 1, 0],\n",
       " [0, 0, 0, 0, 1, 1, 0],\n",
       " [0, 0, 0, 0, 0, 0, 0]]"
      ]
     },
     "execution_count": 8,
     "metadata": {},
     "output_type": "execute_result"
    }
   ],
   "source": [
    "life.grid"
   ]
  },
  {
   "cell_type": "code",
   "execution_count": null,
   "id": "69ac443a-f495-4769-81fb-0df040ca72b6",
   "metadata": {},
   "outputs": [],
   "source": []
  }
 ],
 "metadata": {
  "kernelspec": {
   "display_name": "Python 3 (ipykernel)",
   "language": "python",
   "name": "python3"
  },
  "language_info": {
   "codemirror_mode": {
    "name": "ipython",
    "version": 3
   },
   "file_extension": ".py",
   "mimetype": "text/x-python",
   "name": "python",
   "nbconvert_exporter": "python",
   "pygments_lexer": "ipython3",
   "version": "3.12.4"
  }
 },
 "nbformat": 4,
 "nbformat_minor": 5
}
