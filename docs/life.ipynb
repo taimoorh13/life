{
 "cells": [
  {
   "cell_type": "markdown",
   "id": "5442f393-4d7e-4a0a-a36d-df68059d2b30",
   "metadata": {},
   "source": [
    "An implementation of Game of life in Python\n",
    "==========================================\n",
    "Rules:\n",
    "- Any live cell with fewer than two live neighbours dies, as if by underpopulation.\n",
    "- Any live cell with two or three live neighbours lives on to the next generation.\n",
    "- Any live cell with more than three live neighbours dies, as if by overpopulation.\n",
    "- Any dead cell with exactly three live neighbours becomes a live cell, as if by reproduction."
   ]
  },
  {
   "cell_type": "code",
   "execution_count": 1,
   "id": "4619e178-f8d1-42a3-826e-d0c2f4cc4451",
   "metadata": {},
   "outputs": [],
   "source": [
    "import sys\n",
    "sys.path.append('../src/life')  # Changed the path so module could be imported"
   ]
  },
  {
   "cell_type": "code",
   "execution_count": 2,
   "id": "f4d13f7c-bddf-468a-978c-c371f6a4d955",
   "metadata": {},
   "outputs": [],
   "source": [
    "from life import Life"
   ]
  },
  {
   "cell_type": "code",
   "execution_count": 3,
   "id": "7d45e1aa-837a-4b77-8f3f-2a67e85f80a5",
   "metadata": {},
   "outputs": [
    {
     "name": "stdout",
     "output_type": "stream",
     "text": [
      "Help on class Life in module life:\n",
      "\n",
      "class Life(builtins.object)\n",
      " |  Life(filename: str)\n",
      " |\n",
      " |  A Python implementation of Game of Life.\n",
      " |\n",
      " |  It is a part of Big Geodata Processing Course in Quartile 1, Year 2.\n",
      " |\n",
      " |  Rules:\n",
      " |  - Any live cell with fewer than two live neighbours dies, as if by underpopulation.\n",
      " |  - Any live cell with two or three live neighbours lives on to the next generation.\n",
      " |  - Any live cell with more than three live neighbours dies, as if by overpopulation.\n",
      " |  - Any dead cell with exactly three live neighbours becomes a live cell, as if by reproduction.\n",
      " |\n",
      " |  Methods defined here:\n",
      " |\n",
      " |  __init__(self, filename: str)\n",
      " |      Creates a Game of Life object.\n",
      " |\n",
      " |      Args:\n",
      " |        filename: Input filename.\n",
      " |\n",
      " |      Raises:\n",
      " |        Exception: If input data is invalid.\n",
      " |\n",
      " |  getGrid(self)\n",
      " |      Returns the grid.\n",
      " |\n",
      " |  saveGrid(self, output: str = 'output.txt')\n",
      " |      Saves the final grid in a text file.\n",
      " |\n",
      " |      Args:\n",
      " |        output: output file location (optional).\n",
      " |\n",
      " |  tick(self, num_generations: int = 1)\n",
      " |      Applies the rules of Game of Life for specified number of generations.\n",
      " |\n",
      " |      Args:\n",
      " |        n: Number of generations.\n",
      " |\n",
      " |  ----------------------------------------------------------------------\n",
      " |  Data descriptors defined here:\n",
      " |\n",
      " |  __dict__\n",
      " |      dictionary for instance variables\n",
      " |\n",
      " |  __weakref__\n",
      " |      list of weak references to the object\n",
      "\n"
     ]
    }
   ],
   "source": [
    "help(Life)"
   ]
  },
  {
   "cell_type": "markdown",
   "id": "5c8e7fd6-cd50-42d9-95e3-e65f2d2db7d7",
   "metadata": {},
   "source": [
    "## Key Features for optimization\n",
    "- Used bitArray instead of python arrays to optimize the memory usage\n",
    "- Added padding on all sides to avoid extra 'if' conditions which optimized the run time\n",
    "- Used single-line computations to reduce runtime\n",
    "- Used inline 'if' conditions to eliminate extra lines to increase readability and reduce runtime speed"
   ]
  },
  {
   "cell_type": "markdown",
   "id": "842a3fe8-cda6-4c23-91df-3f78ddbcac5c",
   "metadata": {},
   "source": [
    "### Module Implementaion Starts from here"
   ]
  },
  {
   "cell_type": "code",
   "execution_count": 4,
   "id": "3656b39e-bbb3-4565-ad6a-3de213716f9c",
   "metadata": {},
   "outputs": [],
   "source": [
    "# Set the input file path\n",
    "filename = '../tests/data/matrix.txt'"
   ]
  },
  {
   "cell_type": "code",
   "execution_count": 5,
   "id": "5fa3f0b0-3d23-40de-b55e-f3d8949f9983",
   "metadata": {},
   "outputs": [
    {
     "data": {
      "text/plain": [
       "[bitarray('0000000'),\n",
       " bitarray('0000000'),\n",
       " bitarray('0001000'),\n",
       " bitarray('0000100'),\n",
       " bitarray('0011100'),\n",
       " bitarray('0000000'),\n",
       " bitarray('0000000')]"
      ]
     },
     "execution_count": 5,
     "metadata": {},
     "output_type": "execute_result"
    }
   ],
   "source": [
    "# Initialize the Life object and see the grid\n",
    "life = Life(filename)\n",
    "life.getGrid()"
   ]
  },
  {
   "cell_type": "code",
   "execution_count": 6,
   "id": "a08e31ad-15f6-49b9-84d0-3eedf71e64fe",
   "metadata": {},
   "outputs": [],
   "source": [
    "# Apply 5 iterations to the game\n",
    "life.tick(num_generations=5)"
   ]
  },
  {
   "cell_type": "code",
   "execution_count": 7,
   "id": "c8823580-e2b9-4281-809f-a318fb99f425",
   "metadata": {},
   "outputs": [
    {
     "data": {
      "text/plain": [
       "[bitarray('0000000'),\n",
       " bitarray('0000000'),\n",
       " bitarray('0000000'),\n",
       " bitarray('0000000'),\n",
       " bitarray('0001010'),\n",
       " bitarray('0000110'),\n",
       " bitarray('0000000')]"
      ]
     },
     "execution_count": 7,
     "metadata": {},
     "output_type": "execute_result"
    }
   ],
   "source": [
    "# See the result after 5 iterations\n",
    "life.getGrid()"
   ]
  },
  {
   "cell_type": "code",
   "execution_count": 8,
   "id": "d6cc3a61-556a-48f1-9f74-83def24bbb92",
   "metadata": {},
   "outputs": [
    {
     "name": "stdout",
     "output_type": "stream",
     "text": [
      "File saved at location: output.txt\n"
     ]
    }
   ],
   "source": [
    "# Save the file to a location (location can be changed using the argument output='file.txt')\n",
    "life.saveGrid()"
   ]
  },
  {
   "cell_type": "code",
   "execution_count": null,
   "id": "3e981611-6aef-4291-a3d2-c0793b4a5f7b",
   "metadata": {},
   "outputs": [],
   "source": []
  }
 ],
 "metadata": {
  "kernelspec": {
   "display_name": "Python 3 (ipykernel)",
   "language": "python",
   "name": "python3"
  },
  "language_info": {
   "codemirror_mode": {
    "name": "ipython",
    "version": 3
   },
   "file_extension": ".py",
   "mimetype": "text/x-python",
   "name": "python",
   "nbconvert_exporter": "python",
   "pygments_lexer": "ipython3",
   "version": "3.12.4"
  }
 },
 "nbformat": 4,
 "nbformat_minor": 5
}
